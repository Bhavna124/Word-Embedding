{
 "cells": [
  {
   "cell_type": "code",
   "execution_count": 2,
   "id": "6e290367",
   "metadata": {},
   "outputs": [],
   "source": [
    "import numpy as np\n",
    "from tensorflow.keras.preprocessing.text import one_hot\n",
    "from tensorflow.keras.preprocessing.sequence import pad_sequences\n",
    "from tensorflow.keras.models import Sequential\n",
    "from tensorflow.keras.layers import Dense\n",
    "from tensorflow.keras.layers import Flatten\n",
    "from tensorflow.keras.layers import Embedding"
   ]
  },
  {
   "cell_type": "code",
   "execution_count": 3,
   "id": "b1ab0bb9",
   "metadata": {},
   "outputs": [],
   "source": [
    "reviews=['nice food','amazing restaurant','too good','just loved it!','will go again','horrible food','never go there',\n",
    "         'poor service','poor quality','needs improvement']\n",
    "sentiment=np.array([1,1,1,1,1,0,0,0,0,0])"
   ]
  },
  {
   "cell_type": "code",
   "execution_count": 4,
   "id": "567696c8",
   "metadata": {},
   "outputs": [
    {
     "data": {
      "text/plain": [
       "[2, 26]"
      ]
     },
     "execution_count": 4,
     "metadata": {},
     "output_type": "execute_result"
    }
   ],
   "source": [
    "one_hot('amazing restaurant',30)"
   ]
  },
  {
   "cell_type": "code",
   "execution_count": 5,
   "id": "ae417d98",
   "metadata": {},
   "outputs": [
    {
     "data": {
      "text/plain": [
       "[[29, 10],\n",
       " [2, 26],\n",
       " [28, 2],\n",
       " [13, 19, 4],\n",
       " [21, 2, 25],\n",
       " [11, 10],\n",
       " [17, 2, 11],\n",
       " [17, 5],\n",
       " [17, 26],\n",
       " [14, 5]]"
      ]
     },
     "execution_count": 5,
     "metadata": {},
     "output_type": "execute_result"
    }
   ],
   "source": [
    "vocab_size=30\n",
    "encoded_reviews=[one_hot(d,vocab_size) for d in reviews]\n",
    "encoded_reviews"
   ]
  },
  {
   "cell_type": "code",
   "execution_count": 6,
   "id": "fe0f556e",
   "metadata": {},
   "outputs": [
    {
     "data": {
      "text/plain": [
       "array([[29, 10,  0],\n",
       "       [ 2, 26,  0],\n",
       "       [28,  2,  0],\n",
       "       [13, 19,  4],\n",
       "       [21,  2, 25],\n",
       "       [11, 10,  0],\n",
       "       [17,  2, 11],\n",
       "       [17,  5,  0],\n",
       "       [17, 26,  0],\n",
       "       [14,  5,  0]])"
      ]
     },
     "execution_count": 6,
     "metadata": {},
     "output_type": "execute_result"
    }
   ],
   "source": [
    "max_length=3\n",
    "padded_reviews=pad_sequences(encoded_reviews,maxlen=max_length,padding='post')\n",
    "padded_reviews"
   ]
  },
  {
   "cell_type": "code",
   "execution_count": 10,
   "id": "2319f571",
   "metadata": {},
   "outputs": [],
   "source": [
    "\n",
    "embedded_vector_size=4\n",
    "model=Sequential()\n",
    "model.add(Embedding(vocab_size,embedded_vector_size,input_length=max_length,name='embedding'))\n",
    "model.add(Flatten())\n",
    "model.add(Dense(1,activation='sigmoid'))"
   ]
  },
  {
   "cell_type": "code",
   "execution_count": 11,
   "id": "b2231c57",
   "metadata": {},
   "outputs": [],
   "source": [
    "\n",
    "X=padded_reviews\n",
    "y=sentiment"
   ]
  },
  {
   "cell_type": "code",
   "execution_count": 12,
   "id": "a530ab94",
   "metadata": {},
   "outputs": [
    {
     "name": "stdout",
     "output_type": "stream",
     "text": [
      "Model: \"sequential_1\"\n",
      "_________________________________________________________________\n",
      " Layer (type)                Output Shape              Param #   \n",
      "=================================================================\n",
      " embedding (Embedding)       (None, 3, 4)              120       \n",
      "                                                                 \n",
      " flatten_1 (Flatten)         (None, 12)                0         \n",
      "                                                                 \n",
      " dense_1 (Dense)             (None, 1)                 13        \n",
      "                                                                 \n",
      "=================================================================\n",
      "Total params: 133\n",
      "Trainable params: 133\n",
      "Non-trainable params: 0\n",
      "_________________________________________________________________\n"
     ]
    }
   ],
   "source": [
    "\n",
    "model.compile(optimizer='adam',loss='binary_crossentropy',metrics=['accuracy'])\n",
    "model.summary()"
   ]
  },
  {
   "cell_type": "code",
   "execution_count": 13,
   "id": "eee85ebe",
   "metadata": {},
   "outputs": [
    {
     "data": {
      "text/plain": [
       "<keras.callbacks.History at 0x1584cefb6d0>"
      ]
     },
     "execution_count": 13,
     "metadata": {},
     "output_type": "execute_result"
    }
   ],
   "source": [
    "\n",
    "model.fit(X,y,epochs=50,verbose=0)"
   ]
  },
  {
   "cell_type": "code",
   "execution_count": 14,
   "id": "462f2e44",
   "metadata": {},
   "outputs": [
    {
     "name": "stdout",
     "output_type": "stream",
     "text": [
      "1/1 [==============================] - 1s 635ms/step - loss: 0.6351 - accuracy: 1.0000\n"
     ]
    },
    {
     "data": {
      "text/plain": [
       "1.0"
      ]
     },
     "execution_count": 14,
     "metadata": {},
     "output_type": "execute_result"
    }
   ],
   "source": [
    "\n",
    "loss,accuracy=model.evaluate(X,y)\n",
    "accuracy"
   ]
  },
  {
   "cell_type": "code",
   "execution_count": 15,
   "id": "bb22103a",
   "metadata": {},
   "outputs": [
    {
     "data": {
      "text/plain": [
       "array([[ 0.07392912,  0.04252484, -0.10278057,  0.02705304],\n",
       "       [ 0.0358067 ,  0.04880342, -0.03825196,  0.04793814],\n",
       "       [-0.01578412,  0.02271023, -0.08258314, -0.03018119],\n",
       "       [ 0.01907246, -0.04204499, -0.03180754, -0.01939954],\n",
       "       [-0.04840605, -0.06066139,  0.04092752, -0.01992084],\n",
       "       [ 0.07300803, -0.01748651,  0.08833597,  0.04205032],\n",
       "       [ 0.00808771,  0.00796262, -0.04366335, -0.03502352],\n",
       "       [ 0.00137877,  0.0110983 ,  0.01295451, -0.01412668],\n",
       "       [-0.02855686, -0.02330015, -0.04881635, -0.01322041],\n",
       "       [ 0.01325378,  0.00749149, -0.01128425, -0.01358304],\n",
       "       [ 0.00464269, -0.03584737,  0.02882807, -0.00104947],\n",
       "       [ 0.08573142,  0.06084308,  0.01162947,  0.07213335],\n",
       "       [-0.00701349,  0.01754924,  0.04593548,  0.02720506],\n",
       "       [ 0.09900276,  0.06830219, -0.08121967, -0.06964158],\n",
       "       [-0.00888991, -0.01264002,  0.0495642 ,  0.09203525],\n",
       "       [-0.0390778 , -0.02092934, -0.02947463,  0.03622924],\n",
       "       [ 0.04261526, -0.03918002,  0.03716909, -0.02249299],\n",
       "       [-0.08789713, -0.02395366,  0.02879637,  0.07911378],\n",
       "       [ 0.01559928,  0.02017218,  0.01342864,  0.00048745],\n",
       "       [-0.07449075,  0.02146282, -0.09141377, -0.08390946],\n",
       "       [-0.01913818,  0.04852987,  0.01845172,  0.0223976 ],\n",
       "       [ 0.01113988,  0.04604286, -0.09817912, -0.07298692],\n",
       "       [ 0.045546  ,  0.02563875, -0.03344368,  0.02103784],\n",
       "       [ 0.01677276, -0.00665275, -0.03302412,  0.04798235],\n",
       "       [-0.00159629, -0.04806198,  0.04746217,  0.03687192],\n",
       "       [-0.0156736 , -0.0957168 ,  0.01402163, -0.00236622],\n",
       "       [-0.01654958, -0.0112381 , -0.01340297, -0.05927061],\n",
       "       [ 0.02388037, -0.0130906 , -0.00459028, -0.01816193],\n",
       "       [ 0.07241129,  0.02031004, -0.00366426, -0.05121121],\n",
       "       [ 0.08529758,  0.0952803 , -0.06146235, -0.05349411]],\n",
       "      dtype=float32)"
      ]
     },
     "execution_count": 15,
     "metadata": {},
     "output_type": "execute_result"
    }
   ],
   "source": [
    "\n",
    "model.get_layer('embedding').get_weights()[0]"
   ]
  },
  {
   "cell_type": "code",
   "execution_count": 17,
   "id": "1ba5cd8c",
   "metadata": {},
   "outputs": [
    {
     "data": {
      "text/plain": [
       "30"
      ]
     },
     "execution_count": 17,
     "metadata": {},
     "output_type": "execute_result"
    }
   ],
   "source": [
    "weights=model.get_layer('embedding').get_weights()[0]\n",
    "len(weights)"
   ]
  },
  {
   "cell_type": "code",
   "execution_count": 18,
   "id": "18a31697",
   "metadata": {},
   "outputs": [
    {
     "data": {
      "text/plain": [
       "array([ 0.08529758,  0.0952803 , -0.06146235, -0.05349411], dtype=float32)"
      ]
     },
     "execution_count": 18,
     "metadata": {},
     "output_type": "execute_result"
    }
   ],
   "source": [
    "\n",
    "weights[29]"
   ]
  },
  {
   "cell_type": "code",
   "execution_count": 19,
   "id": "1c3eb6dc",
   "metadata": {},
   "outputs": [
    {
     "data": {
      "text/plain": [
       "array([ 0.00464269, -0.03584737,  0.02882807, -0.00104947], dtype=float32)"
      ]
     },
     "execution_count": 19,
     "metadata": {},
     "output_type": "execute_result"
    }
   ],
   "source": [
    "weights[10]"
   ]
  },
  {
   "cell_type": "code",
   "execution_count": null,
   "id": "522f1475",
   "metadata": {},
   "outputs": [],
   "source": []
  }
 ],
 "metadata": {
  "kernelspec": {
   "display_name": "Python 3 (ipykernel)",
   "language": "python",
   "name": "python3"
  },
  "language_info": {
   "codemirror_mode": {
    "name": "ipython",
    "version": 3
   },
   "file_extension": ".py",
   "mimetype": "text/x-python",
   "name": "python",
   "nbconvert_exporter": "python",
   "pygments_lexer": "ipython3",
   "version": "3.10.5"
  }
 },
 "nbformat": 4,
 "nbformat_minor": 5
}
